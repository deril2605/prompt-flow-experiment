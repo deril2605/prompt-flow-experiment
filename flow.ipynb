{
 "cells": [
  {
   "cell_type": "code",
   "execution_count": 12,
   "metadata": {},
   "outputs": [
    {
     "data": {
      "text/plain": [
       "True"
      ]
     },
     "execution_count": 12,
     "metadata": {},
     "output_type": "execute_result"
    }
   ],
   "source": [
    "from dotenv import load_dotenv\n",
    "import os\n",
    "\n",
    "from promptflow.client import PFClient\n",
    "from promptflow.entities import AzureOpenAIConnection\n",
    "pf_client = PFClient()\n",
    "load_dotenv()"
   ]
  },
  {
   "cell_type": "code",
   "execution_count": 13,
   "metadata": {},
   "outputs": [
    {
     "name": "stdout",
     "output_type": "stream",
     "text": [
      "auth_mode: key\n",
      "name: azure-openai-deril\n",
      "module: promptflow.connections\n",
      "created_date: '2024-09-22T18:17:08.755056'\n",
      "last_modified_date: '2024-09-22T18:17:08.755056'\n",
      "type: azure_open_ai\n",
      "api_key: '******'\n",
      "api_base: https://azure-openai-deril.openai.azure.com/\n",
      "api_type: Azure\n",
      "api_version: 2023-07-01-preview\n",
      "\n"
     ]
    }
   ],
   "source": [
    "# For key; Open Azure OpenAI resource -> Manage Keys -> Copy one of the keys\n",
    "# For api version; Go to prompt flow -> connections -> select the connection\n",
    "\n",
    "try:\n",
    "    conn_name = \"azure-openai-deril\"\n",
    "    conn = pf_client.connections.get(conn_name)\n",
    "except Exception as e:\n",
    "    connection = AzureOpenAIConnection(\n",
    "        name = conn_name,\n",
    "        api_key=os.environ(\"CONN_KEY\"),\n",
    "        api_base=\"https://azure-openai-deril.openai.azure.com/\",\n",
    "        api_type=\"Azure\",\n",
    "        api_version=\"2023-07-01-preview\",\n",
    "    )\n",
    "    conn = pf_client.connections.create_or_update(connection)\n",
    "print(conn)"
   ]
  },
  {
   "cell_type": "code",
   "execution_count": null,
   "metadata": {},
   "outputs": [],
   "source": []
  }
 ],
 "metadata": {
  "kernelspec": {
   "display_name": "machine-learning-tensorflow",
   "language": "python",
   "name": "python3"
  },
  "language_info": {
   "codemirror_mode": {
    "name": "ipython",
    "version": 3
   },
   "file_extension": ".py",
   "mimetype": "text/x-python",
   "name": "python",
   "nbconvert_exporter": "python",
   "pygments_lexer": "ipython3",
   "version": "3.10.10"
  }
 },
 "nbformat": 4,
 "nbformat_minor": 2
}
